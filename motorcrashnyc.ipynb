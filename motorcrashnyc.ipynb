{
 "cells": [
  {
   "cell_type": "code",
   "execution_count": 30,
   "metadata": {
    "_cell_guid": "b1076dfc-b9ad-4769-8c92-a6c4dae69d19",
    "_uuid": "8f2839f25d086af736a60e9eeb907d3b93b6e0e5",
    "execution": {
     "iopub.execute_input": "2022-06-14T12:21:28.948100Z",
     "iopub.status.busy": "2022-06-14T12:21:28.947268Z",
     "iopub.status.idle": "2022-06-14T12:21:28.953805Z",
     "shell.execute_reply": "2022-06-14T12:21:28.953152Z",
     "shell.execute_reply.started": "2022-06-14T12:21:28.948044Z"
    }
   },
   "outputs": [],
   "source": [
    "import numpy as np \n",
    "import pandas as pd \n",
    "import datetime\n",
    "import matplotlib.pyplot as plt\n",
    "import seaborn as sns\n",
    "import requests\n",
    "sns.set_style('whitegrid')"
   ]
  },
  {
   "cell_type": "code",
   "execution_count": 39,
   "metadata": {
    "execution": {
     "iopub.execute_input": "2022-06-14T12:22:05.355653Z",
     "iopub.status.busy": "2022-06-14T12:22:05.355352Z",
     "iopub.status.idle": "2022-06-14T12:22:16.024971Z",
     "shell.execute_reply": "2022-06-14T12:22:16.024237Z",
     "shell.execute_reply.started": "2022-06-14T12:22:05.355605Z"
    }
   },
   "outputs": [],
   "source": [
    "# df = pd.read_csv('Motor_Vehicle_Collisions_-_Crashes.csv', low_memory=False)\n",
    "df = pd.read_parquet('Motor_Vehicle_Collisions_-_Crashes.pq')"
   ]
  },
  {
   "cell_type": "code",
   "execution_count": 40,
   "metadata": {},
   "outputs": [
    {
     "data": {
      "text/plain": [
       "(1344596, 30)"
      ]
     },
     "execution_count": 40,
     "metadata": {},
     "output_type": "execute_result"
    }
   ],
   "source": [
    "df.shape"
   ]
  },
  {
   "cell_type": "code",
   "execution_count": 41,
   "metadata": {
    "execution": {
     "iopub.execute_input": "2022-06-14T12:22:19.775428Z",
     "iopub.status.busy": "2022-06-14T12:22:19.774555Z",
     "iopub.status.idle": "2022-06-14T12:22:19.781136Z",
     "shell.execute_reply": "2022-06-14T12:22:19.780285Z",
     "shell.execute_reply.started": "2022-06-14T12:22:19.775372Z"
    }
   },
   "outputs": [],
   "source": [
    "my_auto = ['Sedan', 'PASSENGER VEHICLE', 'SPORT UTILITY / STATION WAGON', 'Station Wagon/Sport Utility Vehicle', '4 dr sedan', 'Pick-up Truck', 'VAN', 'PICK-UP TRUCK', 'LIVERY VEHICLE', 'Van', '2 dr sedan', 'Box Truck', 'Convertible', 'Flat Bed']\n",
    "my_motorcycle = ['Motorcycle', 'MOTORCYCLE']\n",
    "my_taxi = ['Taxi', 'TAXI']\n",
    "my_bus = ['Bus','BUS']\n",
    "my_bike = ['Bike', 'E-Bike']\n",
    "my_ambulance = ['AMBULANCE', 'Ambulance']\n",
    "my_moped = ['Moped']\n",
    "my_commercial = ['LARGE COM VEH(6 OR MORE TIRES)', 'SMALL COM VEH(4 TIRES)', 'Tractor Truck Diesel']"
   ]
  },
  {
   "cell_type": "code",
   "execution_count": 42,
   "metadata": {
    "execution": {
     "iopub.execute_input": "2022-06-14T12:22:42.491589Z",
     "iopub.status.busy": "2022-06-14T12:22:42.491324Z",
     "iopub.status.idle": "2022-06-14T12:22:42.575363Z",
     "shell.execute_reply": "2022-06-14T12:22:42.574808Z",
     "shell.execute_reply.started": "2022-06-14T12:22:42.491561Z"
    },
    "scrolled": false
   },
   "outputs": [
    {
     "data": {
      "text/plain": [
       "Sedan                                  474666\n",
       "Station Wagon/Sport Utility Vehicle    377069\n",
       "PASSENGER VEHICLE                      133588\n",
       "SPORT UTILITY / STATION WAGON           65910\n",
       "Taxi                                    45775\n",
       "4 dr sedan                              40084\n",
       "Pick-up Truck                           29848\n",
       "Box Truck                               20725\n",
       "Bus                                     17445\n",
       "Bike                                    11198\n",
       "TAXI                                    10319\n",
       "Tractor Truck Diesel                     8817\n",
       "VAN                                      8421\n",
       "OTHER                                    8251\n",
       "Van                                      7704\n",
       "UNKNOWN                                  6946\n",
       "Motorcycle                               6212\n",
       "LARGE COM VEH(6 OR MORE TIRES)           5035\n",
       "BUS                                      4719\n",
       "SMALL COM VEH(4 TIRES)                   4478\n",
       "LIVERY VEHICLE                           4289\n",
       "PICK-UP TRUCK                            3995\n",
       "Convertible                              3281\n",
       "Dump                                     3124\n",
       "Ambulance                                3075\n",
       "2 dr sedan                               2649\n",
       "Flat Bed                                 2038\n",
       "PK                                       1982\n",
       "Garbage or Refuse                        1805\n",
       "Carry All                                1669\n",
       "Name: VEHICLE TYPE CODE 1, dtype: int64"
      ]
     },
     "execution_count": 42,
     "metadata": {},
     "output_type": "execute_result"
    }
   ],
   "source": [
    "df['VEHICLE TYPE CODE 1'].value_counts().head(30)"
   ]
  },
  {
   "cell_type": "code",
   "execution_count": 43,
   "metadata": {
    "execution": {
     "iopub.execute_input": "2022-06-14T12:23:09.077997Z",
     "iopub.status.busy": "2022-06-14T12:23:09.077422Z",
     "iopub.status.idle": "2022-06-14T12:23:09.806967Z",
     "shell.execute_reply": "2022-06-14T12:23:09.806122Z",
     "shell.execute_reply.started": "2022-06-14T12:23:09.077953Z"
    }
   },
   "outputs": [],
   "source": [
    "# uniform vehicle type\n",
    "\n",
    "df['vehicle'] = pd.Series([], dtype='object')\n",
    "df.loc[df['VEHICLE TYPE CODE 1'].isin(my_auto), 'vehicle'] = 'automobile'\n",
    "df.loc[df['VEHICLE TYPE CODE 1'].isin(my_motorcycle), 'vehicle'] = 'motorcycle'\n",
    "df.loc[df['VEHICLE TYPE CODE 1'].isin(my_taxi), 'vehicle'] = 'taxi'\n",
    "df.loc[df['VEHICLE TYPE CODE 1'].isin(my_bus), 'vehicle'] = 'bus'\n",
    "df.loc[df['VEHICLE TYPE CODE 1'].isin(my_bike), 'vehicle'] = 'bike'\n",
    "df.loc[df['VEHICLE TYPE CODE 1'].isin(my_ambulance), 'vehicle'] = 'ambulance'\n",
    "df.loc[df['VEHICLE TYPE CODE 1'].isin(my_moped), 'vehicle'] = 'moped'\n",
    "df.loc[df['VEHICLE TYPE CODE 1'].isin(my_commercial), 'vehicle'] = 'commercial'"
   ]
  },
  {
   "cell_type": "code",
   "execution_count": 44,
   "metadata": {
    "execution": {
     "iopub.execute_input": "2022-06-14T12:23:11.292162Z",
     "iopub.status.busy": "2022-06-14T12:23:11.291863Z",
     "iopub.status.idle": "2022-06-14T12:23:11.298317Z",
     "shell.execute_reply": "2022-06-14T12:23:11.297376Z",
     "shell.execute_reply.started": "2022-06-14T12:23:11.292127Z"
    }
   },
   "outputs": [],
   "source": [
    "# get rid of large titles\n",
    "df.rename(columns = {'NUMBER OF PERSONS INJURED':'injured', 'NUMBER OF PERSONS KILLED': 'killed', \\\n",
    "                     'NUMBER OF PEDESTRIANS INJURED': 'ped_inj', 'NUMBER OF PEDESTRIANS KILLED': 'ped_kill', 'NUMBER OF CYCLIST INJURED': 'cyc_inj', \\\n",
    "                     'NUMBER OF CYCLIST KILLED': 'cyc_kill', 'NUMBER OF MOTORIST INJURED': 'mot_inj', 'NUMBER OF MOTORIST KILLED': 'mot_kill'}, inplace=True)\n",
    "\n",
    "my_cols = ['vehicle', 'injured', 'killed', 'ped_inj', 'ped_kill', 'cyc_inj', 'cyc_kill', 'mot_inj', 'mot_kill']"
   ]
  },
  {
   "cell_type": "code",
   "execution_count": 45,
   "metadata": {
    "execution": {
     "iopub.execute_input": "2022-06-14T12:23:14.130385Z",
     "iopub.status.busy": "2022-06-14T12:23:14.129691Z",
     "iopub.status.idle": "2022-06-14T12:23:15.353376Z",
     "shell.execute_reply": "2022-06-14T12:23:15.352613Z",
     "shell.execute_reply.started": "2022-06-14T12:23:14.130345Z"
    }
   },
   "outputs": [
    {
     "data": {
      "text/html": [
       "<div>\n",
       "<style scoped>\n",
       "    .dataframe tbody tr th:only-of-type {\n",
       "        vertical-align: middle;\n",
       "    }\n",
       "\n",
       "    .dataframe tbody tr th {\n",
       "        vertical-align: top;\n",
       "    }\n",
       "\n",
       "    .dataframe thead th {\n",
       "        text-align: right;\n",
       "    }\n",
       "</style>\n",
       "<table border=\"1\" class=\"dataframe\">\n",
       "  <thead>\n",
       "    <tr style=\"text-align: right;\">\n",
       "      <th></th>\n",
       "      <th>vehicle</th>\n",
       "      <th>injured</th>\n",
       "      <th>killed</th>\n",
       "      <th>ped_inj</th>\n",
       "      <th>ped_kill</th>\n",
       "      <th>cyc_inj</th>\n",
       "      <th>cyc_kill</th>\n",
       "      <th>mot_inj</th>\n",
       "      <th>mot_kill</th>\n",
       "    </tr>\n",
       "    <tr>\n",
       "      <th>index</th>\n",
       "      <th></th>\n",
       "      <th></th>\n",
       "      <th></th>\n",
       "      <th></th>\n",
       "      <th></th>\n",
       "      <th></th>\n",
       "      <th></th>\n",
       "      <th></th>\n",
       "      <th></th>\n",
       "    </tr>\n",
       "  </thead>\n",
       "  <tbody>\n",
       "    <tr>\n",
       "      <th>766552</th>\n",
       "      <td>automobile</td>\n",
       "      <td>0.0</td>\n",
       "      <td>0.0</td>\n",
       "      <td>0</td>\n",
       "      <td>0</td>\n",
       "      <td>0</td>\n",
       "      <td>0</td>\n",
       "      <td>0</td>\n",
       "      <td>0</td>\n",
       "    </tr>\n",
       "    <tr>\n",
       "      <th>485437</th>\n",
       "      <td>automobile</td>\n",
       "      <td>0.0</td>\n",
       "      <td>0.0</td>\n",
       "      <td>0</td>\n",
       "      <td>0</td>\n",
       "      <td>0</td>\n",
       "      <td>0</td>\n",
       "      <td>0</td>\n",
       "      <td>0</td>\n",
       "    </tr>\n",
       "    <tr>\n",
       "      <th>795862</th>\n",
       "      <td>automobile</td>\n",
       "      <td>0.0</td>\n",
       "      <td>0.0</td>\n",
       "      <td>0</td>\n",
       "      <td>0</td>\n",
       "      <td>0</td>\n",
       "      <td>0</td>\n",
       "      <td>0</td>\n",
       "      <td>0</td>\n",
       "    </tr>\n",
       "    <tr>\n",
       "      <th>1099880</th>\n",
       "      <td>automobile</td>\n",
       "      <td>1.0</td>\n",
       "      <td>0.0</td>\n",
       "      <td>0</td>\n",
       "      <td>0</td>\n",
       "      <td>0</td>\n",
       "      <td>0</td>\n",
       "      <td>1</td>\n",
       "      <td>0</td>\n",
       "    </tr>\n",
       "    <tr>\n",
       "      <th>404819</th>\n",
       "      <td>taxi</td>\n",
       "      <td>0.0</td>\n",
       "      <td>0.0</td>\n",
       "      <td>0</td>\n",
       "      <td>0</td>\n",
       "      <td>0</td>\n",
       "      <td>0</td>\n",
       "      <td>0</td>\n",
       "      <td>0</td>\n",
       "    </tr>\n",
       "    <tr>\n",
       "      <th>900958</th>\n",
       "      <td>commercial</td>\n",
       "      <td>0.0</td>\n",
       "      <td>0.0</td>\n",
       "      <td>0</td>\n",
       "      <td>0</td>\n",
       "      <td>0</td>\n",
       "      <td>0</td>\n",
       "      <td>0</td>\n",
       "      <td>0</td>\n",
       "    </tr>\n",
       "    <tr>\n",
       "      <th>5780</th>\n",
       "      <td>automobile</td>\n",
       "      <td>0.0</td>\n",
       "      <td>0.0</td>\n",
       "      <td>0</td>\n",
       "      <td>0</td>\n",
       "      <td>0</td>\n",
       "      <td>0</td>\n",
       "      <td>0</td>\n",
       "      <td>0</td>\n",
       "    </tr>\n",
       "    <tr>\n",
       "      <th>1128247</th>\n",
       "      <td>automobile</td>\n",
       "      <td>0.0</td>\n",
       "      <td>0.0</td>\n",
       "      <td>0</td>\n",
       "      <td>0</td>\n",
       "      <td>0</td>\n",
       "      <td>0</td>\n",
       "      <td>0</td>\n",
       "      <td>0</td>\n",
       "    </tr>\n",
       "    <tr>\n",
       "      <th>15060</th>\n",
       "      <td>automobile</td>\n",
       "      <td>1.0</td>\n",
       "      <td>0.0</td>\n",
       "      <td>0</td>\n",
       "      <td>0</td>\n",
       "      <td>0</td>\n",
       "      <td>0</td>\n",
       "      <td>1</td>\n",
       "      <td>0</td>\n",
       "    </tr>\n",
       "    <tr>\n",
       "      <th>847071</th>\n",
       "      <td>automobile</td>\n",
       "      <td>0.0</td>\n",
       "      <td>0.0</td>\n",
       "      <td>0</td>\n",
       "      <td>0</td>\n",
       "      <td>0</td>\n",
       "      <td>0</td>\n",
       "      <td>0</td>\n",
       "      <td>0</td>\n",
       "    </tr>\n",
       "  </tbody>\n",
       "</table>\n",
       "</div>"
      ],
      "text/plain": [
       "            vehicle  injured  killed  ped_inj  ped_kill  cyc_inj  cyc_kill  \\\n",
       "index                                                                        \n",
       "766552   automobile      0.0     0.0        0         0        0         0   \n",
       "485437   automobile      0.0     0.0        0         0        0         0   \n",
       "795862   automobile      0.0     0.0        0         0        0         0   \n",
       "1099880  automobile      1.0     0.0        0         0        0         0   \n",
       "404819         taxi      0.0     0.0        0         0        0         0   \n",
       "900958   commercial      0.0     0.0        0         0        0         0   \n",
       "5780     automobile      0.0     0.0        0         0        0         0   \n",
       "1128247  automobile      0.0     0.0        0         0        0         0   \n",
       "15060    automobile      1.0     0.0        0         0        0         0   \n",
       "847071   automobile      0.0     0.0        0         0        0         0   \n",
       "\n",
       "         mot_inj  mot_kill  \n",
       "index                       \n",
       "766552         0         0  \n",
       "485437         0         0  \n",
       "795862         0         0  \n",
       "1099880        1         0  \n",
       "404819         0         0  \n",
       "900958         0         0  \n",
       "5780           0         0  \n",
       "1128247        0         0  \n",
       "15060          1         0  \n",
       "847071         0         0  "
      ]
     },
     "execution_count": 45,
     "metadata": {},
     "output_type": "execute_result"
    }
   ],
   "source": [
    "df[['vehicle', 'injured', 'killed', 'ped_inj', 'ped_kill', 'cyc_inj', 'cyc_kill', 'mot_inj', 'mot_kill']].sample(10)"
   ]
  },
  {
   "cell_type": "code",
   "execution_count": 46,
   "metadata": {
    "execution": {
     "iopub.execute_input": "2022-06-14T12:25:46.282921Z",
     "iopub.status.busy": "2022-06-14T12:25:46.282610Z",
     "iopub.status.idle": "2022-06-14T12:25:46.403625Z",
     "shell.execute_reply": "2022-06-14T12:25:46.402858Z",
     "shell.execute_reply.started": "2022-06-14T12:25:46.282885Z"
    }
   },
   "outputs": [
    {
     "data": {
      "text/plain": [
       "vehicle\n",
       "moped           0\n",
       "ambulance       3\n",
       "bike            6\n",
       "motorcycle      6\n",
       "commercial     29\n",
       "taxi           31\n",
       "bus            48\n",
       "automobile    660\n",
       "Name: ped_kill, dtype: int64"
      ]
     },
     "execution_count": 46,
     "metadata": {},
     "output_type": "execute_result"
    }
   ],
   "source": [
    "df.groupby('vehicle').ped_kill.sum().sort_values(ascending=True)"
   ]
  },
  {
   "cell_type": "code",
   "execution_count": 48,
   "metadata": {
    "execution": {
     "iopub.execute_input": "2022-06-14T11:32:03.738724Z",
     "iopub.status.busy": "2022-06-14T11:32:03.738505Z",
     "iopub.status.idle": "2022-06-14T11:32:03.743358Z",
     "shell.execute_reply": "2022-06-14T11:32:03.742397Z",
     "shell.execute_reply.started": "2022-06-14T11:32:03.738698Z"
    }
   },
   "outputs": [],
   "source": [
    "# NYS Vehicle Registrations of File - End of year 2018  https://dmv.ny.gov/statistic/2018reginforce-web.pdf\n",
    "\n",
    "# automobile_qty = 1912468\n",
    "# motorcycle_qty = 44784\n",
    "# commercial_qty = 75069\n",
    "# moped_qty = 2283\n",
    "# bus_qty = 8573\n",
    "# taxi_qty = 111562\n",
    "# ambulance_qty = 1935\n",
    "\n",
    "stat_dict = {\n",
    "'automobile': 1912468,\n",
    "'taxi': 111562,\n",
    "'bike': 773000, # https://www1.nyc.gov/html/dot/html/bicyclists/cyclinginthecity.shtml\n",
    "'bus': 8573,\n",
    "'motorcycle': 44784,\n",
    "'commercial': 75069,\n",
    "'ambulance': 1935,\n",
    "'moped': 2283\n",
    "}"
   ]
  },
  {
   "cell_type": "markdown",
   "metadata": {},
   "source": [
    "# Who gets killed more often?"
   ]
  },
  {
   "cell_type": "code",
   "execution_count": 65,
   "metadata": {
    "execution": {
     "iopub.execute_input": "2022-06-14T13:28:41.656076Z",
     "iopub.status.busy": "2022-06-14T13:28:41.655654Z",
     "iopub.status.idle": "2022-06-14T13:28:41.855937Z",
     "shell.execute_reply": "2022-06-14T13:28:41.855118Z",
     "shell.execute_reply.started": "2022-06-14T13:28:41.656045Z"
    }
   },
   "outputs": [
    {
     "data": {
      "image/png": "[encoded data removed]",
      "text/plain": [
       "<Figure size 500x200 with 1 Axes>"
      ]
     },
     "metadata": {},
     "output_type": "display_data"
    }
   ],
   "source": [
    "sns.set(rc={'figure.figsize':(5,2)})\n",
    "a = [df.ped_kill.sum(), df.mot_kill.sum(), df.cyc_kill.sum()]\n",
    "labels = ['pedestrians', 'motorists', 'cyclists']\n",
    "\n",
    "g=sns.barplot(x=a, y=labels)\n",
    "plt.xlabel('number of people killed')\n",
    "\n",
    "plt.show()"
   ]
  },
  {
   "cell_type": "code",
   "execution_count": null,
   "metadata": {},
   "outputs": [],
   "source": []
  },
  {
   "cell_type": "code",
   "execution_count": null,
   "metadata": {},
   "outputs": [],
   "source": []
  },
  {
   "cell_type": "markdown",
   "metadata": {},
   "source": [
    "# Driving which vehicle is more likely to injure a pedestrian"
   ]
  },
  {
   "cell_type": "code",
   "execution_count": 13,
   "metadata": {
    "execution": {
     "iopub.execute_input": "2022-06-14T11:32:03.905463Z",
     "iopub.status.busy": "2022-06-14T11:32:03.905143Z",
     "iopub.status.idle": "2022-06-14T11:32:03.955449Z",
     "shell.execute_reply": "2022-06-14T11:32:03.954737Z",
     "shell.execute_reply.started": "2022-06-14T11:32:03.905424Z"
    }
   },
   "outputs": [
    {
     "data": {
      "text/html": [
       "<div>\n",
       "<style scoped>\n",
       "    .dataframe tbody tr th:only-of-type {\n",
       "        vertical-align: middle;\n",
       "    }\n",
       "\n",
       "    .dataframe tbody tr th {\n",
       "        vertical-align: top;\n",
       "    }\n",
       "\n",
       "    .dataframe thead th {\n",
       "        text-align: right;\n",
       "    }\n",
       "</style>\n",
       "<table border=\"1\" class=\"dataframe\">\n",
       "  <thead>\n",
       "    <tr style=\"text-align: right;\">\n",
       "      <th></th>\n",
       "      <th>vehicle</th>\n",
       "      <th>injured</th>\n",
       "      <th>killed</th>\n",
       "      <th>ped_inj</th>\n",
       "      <th>ped_kill</th>\n",
       "      <th>cyc_inj</th>\n",
       "      <th>cyc_kill</th>\n",
       "      <th>mot_inj</th>\n",
       "      <th>mot_kill</th>\n",
       "    </tr>\n",
       "  </thead>\n",
       "  <tbody>\n",
       "    <tr>\n",
       "      <th>914164</th>\n",
       "      <td>NaN</td>\n",
       "      <td>5.0</td>\n",
       "      <td>0.0</td>\n",
       "      <td>0.0</td>\n",
       "      <td>0.0</td>\n",
       "      <td>0.0</td>\n",
       "      <td>0.0</td>\n",
       "      <td>5.0</td>\n",
       "      <td>0.0</td>\n",
       "    </tr>\n",
       "    <tr>\n",
       "      <th>914165</th>\n",
       "      <td>NaN</td>\n",
       "      <td>NaN</td>\n",
       "      <td>NaN</td>\n",
       "      <td>NaN</td>\n",
       "      <td>NaN</td>\n",
       "      <td>NaN</td>\n",
       "      <td>NaN</td>\n",
       "      <td>NaN</td>\n",
       "      <td>NaN</td>\n",
       "    </tr>\n",
       "    <tr>\n",
       "      <th>914166</th>\n",
       "      <td>NaN</td>\n",
       "      <td>NaN</td>\n",
       "      <td>NaN</td>\n",
       "      <td>NaN</td>\n",
       "      <td>NaN</td>\n",
       "      <td>NaN</td>\n",
       "      <td>NaN</td>\n",
       "      <td>NaN</td>\n",
       "      <td>NaN</td>\n",
       "    </tr>\n",
       "    <tr>\n",
       "      <th>914167</th>\n",
       "      <td>NaN</td>\n",
       "      <td>NaN</td>\n",
       "      <td>NaN</td>\n",
       "      <td>NaN</td>\n",
       "      <td>NaN</td>\n",
       "      <td>NaN</td>\n",
       "      <td>NaN</td>\n",
       "      <td>NaN</td>\n",
       "      <td>NaN</td>\n",
       "    </tr>\n",
       "    <tr>\n",
       "      <th>914168</th>\n",
       "      <td>NaN</td>\n",
       "      <td>NaN</td>\n",
       "      <td>NaN</td>\n",
       "      <td>NaN</td>\n",
       "      <td>NaN</td>\n",
       "      <td>NaN</td>\n",
       "      <td>NaN</td>\n",
       "      <td>NaN</td>\n",
       "      <td>NaN</td>\n",
       "    </tr>\n",
       "  </tbody>\n",
       "</table>\n",
       "</div>"
      ],
      "text/plain": [
       "       vehicle  injured  killed  ped_inj  ped_kill  cyc_inj  cyc_kill  \\\n",
       "914164     NaN      5.0     0.0      0.0       0.0      0.0       0.0   \n",
       "914165     NaN      NaN     NaN      NaN       NaN      NaN       NaN   \n",
       "914166     NaN      NaN     NaN      NaN       NaN      NaN       NaN   \n",
       "914167     NaN      NaN     NaN      NaN       NaN      NaN       NaN   \n",
       "914168     NaN      NaN     NaN      NaN       NaN      NaN       NaN   \n",
       "\n",
       "        mot_inj  mot_kill  \n",
       "914164      5.0       0.0  \n",
       "914165      NaN       NaN  \n",
       "914166      NaN       NaN  \n",
       "914167      NaN       NaN  \n",
       "914168      NaN       NaN  "
      ]
     },
     "execution_count": 13,
     "metadata": {},
     "output_type": "execute_result"
    }
   ],
   "source": [
    "df[my_cols].tail()"
   ]
  },
  {
   "cell_type": "code",
   "execution_count": 63,
   "metadata": {
    "execution": {
     "iopub.execute_input": "2022-06-14T13:33:19.150046Z",
     "iopub.status.busy": "2022-06-14T13:33:19.149725Z",
     "iopub.status.idle": "2022-06-14T13:33:19.596873Z",
     "shell.execute_reply": "2022-06-14T13:33:19.596017Z",
     "shell.execute_reply.started": "2022-06-14T13:33:19.150007Z"
    }
   },
   "outputs": [
    {
     "data": {
      "image/png": "[encoded data removed]",
      "text/plain": [
       "<Figure size 900x300 with 1 Axes>"
      ]
     },
     "metadata": {},
     "output_type": "display_data"
    }
   ],
   "source": [
    "# Who kills pedestrians ?\n",
    "sns.set(rc={'figure.figsize':(7,3)})\n",
    "df_who_kills = df.groupby('vehicle', as_index=False).ped_kill.sum().sort_values(by='ped_kill', ascending=False).copy(deep=True)\n",
    "\n",
    "g=sns.catplot(y='vehicle', x='ped_kill', data=df_who_kills, kind='bar',orient='h', height=3, aspect=3)\n",
    "g.set(xlabel='Number of people killed', ylabel='vehicle type')\n",
    "plt.title('Number of people killed by vehicle type')\n",
    "plt.show()"
   ]
  },
  {
   "cell_type": "code",
   "execution_count": 66,
   "metadata": {
    "execution": {
     "iopub.execute_input": "2022-06-14T13:45:26.835452Z",
     "iopub.status.busy": "2022-06-14T13:45:26.835152Z",
     "iopub.status.idle": "2022-06-14T13:45:26.966858Z",
     "shell.execute_reply": "2022-06-14T13:45:26.966144Z",
     "shell.execute_reply.started": "2022-06-14T13:45:26.835422Z"
    }
   },
   "outputs": [],
   "source": [
    "# Casualty RATE by vehicle type - PEDESTRIANS\n",
    "\n",
    "df_rate = df.groupby('vehicle')[['ped_inj', 'ped_kill']].sum()\n",
    "df_rate['registred'] = df_rate.index.map(stat_dict)\n",
    "df_rate['rate_inj_per_1K'] = df_rate.ped_inj / df_rate.registred * 1000\n",
    "df_rate['rate_kill_per_10K'] = df_rate.ped_kill / df_rate.registred * 10000\n",
    "#df_rate.sort_values(by='rate', ascending=False, inplace=True)"
   ]
  },
  {
   "cell_type": "code",
   "execution_count": 67,
   "metadata": {
    "execution": {
     "iopub.execute_input": "2022-06-14T13:45:31.694402Z",
     "iopub.status.busy": "2022-06-14T13:45:31.694126Z",
     "iopub.status.idle": "2022-06-14T13:45:31.706355Z",
     "shell.execute_reply": "2022-06-14T13:45:31.705467Z",
     "shell.execute_reply.started": "2022-06-14T13:45:31.694364Z"
    }
   },
   "outputs": [
    {
     "data": {
      "text/html": [
       "<div>\n",
       "<style scoped>\n",
       "    .dataframe tbody tr th:only-of-type {\n",
       "        vertical-align: middle;\n",
       "    }\n",
       "\n",
       "    .dataframe tbody tr th {\n",
       "        vertical-align: top;\n",
       "    }\n",
       "\n",
       "    .dataframe thead th {\n",
       "        text-align: right;\n",
       "    }\n",
       "</style>\n",
       "<table border=\"1\" class=\"dataframe\">\n",
       "  <thead>\n",
       "    <tr style=\"text-align: right;\">\n",
       "      <th></th>\n",
       "      <th>ped_inj</th>\n",
       "      <th>ped_kill</th>\n",
       "      <th>registred</th>\n",
       "      <th>rate_inj_per_1K</th>\n",
       "      <th>rate_kill_per_10K</th>\n",
       "    </tr>\n",
       "    <tr>\n",
       "      <th>vehicle</th>\n",
       "      <th></th>\n",
       "      <th></th>\n",
       "      <th></th>\n",
       "      <th></th>\n",
       "      <th></th>\n",
       "    </tr>\n",
       "  </thead>\n",
       "  <tbody>\n",
       "    <tr>\n",
       "      <th>ambulance</th>\n",
       "      <td>74</td>\n",
       "      <td>3</td>\n",
       "      <td>1935</td>\n",
       "      <td>38.242894</td>\n",
       "      <td>15.503876</td>\n",
       "    </tr>\n",
       "    <tr>\n",
       "      <th>automobile</th>\n",
       "      <td>52736</td>\n",
       "      <td>660</td>\n",
       "      <td>1912468</td>\n",
       "      <td>27.574840</td>\n",
       "      <td>3.451038</td>\n",
       "    </tr>\n",
       "    <tr>\n",
       "      <th>bike</th>\n",
       "      <td>1707</td>\n",
       "      <td>6</td>\n",
       "      <td>773000</td>\n",
       "      <td>2.208279</td>\n",
       "      <td>0.077620</td>\n",
       "    </tr>\n",
       "    <tr>\n",
       "      <th>bus</th>\n",
       "      <td>1040</td>\n",
       "      <td>48</td>\n",
       "      <td>8573</td>\n",
       "      <td>121.311093</td>\n",
       "      <td>55.989735</td>\n",
       "    </tr>\n",
       "    <tr>\n",
       "      <th>commercial</th>\n",
       "      <td>131</td>\n",
       "      <td>29</td>\n",
       "      <td>75069</td>\n",
       "      <td>1.745061</td>\n",
       "      <td>3.863113</td>\n",
       "    </tr>\n",
       "    <tr>\n",
       "      <th>moped</th>\n",
       "      <td>71</td>\n",
       "      <td>0</td>\n",
       "      <td>2283</td>\n",
       "      <td>31.099431</td>\n",
       "      <td>0.000000</td>\n",
       "    </tr>\n",
       "    <tr>\n",
       "      <th>motorcycle</th>\n",
       "      <td>342</td>\n",
       "      <td>6</td>\n",
       "      <td>44784</td>\n",
       "      <td>7.636656</td>\n",
       "      <td>1.339764</td>\n",
       "    </tr>\n",
       "    <tr>\n",
       "      <th>taxi</th>\n",
       "      <td>3538</td>\n",
       "      <td>31</td>\n",
       "      <td>111562</td>\n",
       "      <td>31.713307</td>\n",
       "      <td>2.778724</td>\n",
       "    </tr>\n",
       "  </tbody>\n",
       "</table>\n",
       "</div>"
      ],
      "text/plain": [
       "            ped_inj  ped_kill  registred  rate_inj_per_1K  rate_kill_per_10K\n",
       "vehicle                                                                     \n",
       "ambulance        74         3       1935        38.242894          15.503876\n",
       "automobile    52736       660    1912468        27.574840           3.451038\n",
       "bike           1707         6     773000         2.208279           0.077620\n",
       "bus            1040        48       8573       121.311093          55.989735\n",
       "commercial      131        29      75069         1.745061           3.863113\n",
       "moped            71         0       2283        31.099431           0.000000\n",
       "motorcycle      342         6      44784         7.636656           1.339764\n",
       "taxi           3538        31     111562        31.713307           2.778724"
      ]
     },
     "execution_count": 67,
     "metadata": {},
     "output_type": "execute_result"
    }
   ],
   "source": [
    "df_rate"
   ]
  },
  {
   "cell_type": "code",
   "execution_count": 69,
   "metadata": {
    "execution": {
     "iopub.execute_input": "2022-06-14T13:45:41.971125Z",
     "iopub.status.busy": "2022-06-14T13:45:41.970810Z",
     "iopub.status.idle": "2022-06-14T13:45:42.324532Z",
     "shell.execute_reply": "2022-06-14T13:45:42.323921Z",
     "shell.execute_reply.started": "2022-06-14T13:45:41.971090Z"
    }
   },
   "outputs": [
    {
     "data": {
      "image/png": "[encoded data removed]",
      "text/plain": [
       "<Figure size 1000x700 with 2 Axes>"
      ]
     },
     "metadata": {},
     "output_type": "display_data"
    }
   ],
   "source": [
    "x1 = df_rate.index\n",
    "y1 = df_rate.rate_inj_per_1K\n",
    "\n",
    "x2 = df_rate.index\n",
    "y2 = df_rate.rate_kill_per_10K\n",
    "\n",
    "fig, ax1  = plt.subplots(figsize=(10,7))\n",
    "color = 'tab:blue'\n",
    "ax1.set_xlabel('vehicle', size=14)\n",
    "ax1.set_ylabel('Injuries per 1K reg.', color=color, size=14)\n",
    "ax1.scatter(x1, y1, marker='s', color=color, label='Injured', alpha=0.5, s=200)\n",
    "ax1.tick_params(axis='y', labelcolor=color)\n",
    "ax1.legend(loc='upper left')\n",
    "\n",
    "ax2 = ax1.twinx()\n",
    "color = 'tab:red'\n",
    "ax2.set_ylabel('Killed per 10K reg.', color=color, size=14)  # we already handled the x-label with ax1\n",
    "ax2.scatter(x2, y2, color=color, label='Killed', alpha=0.5, marker='o', s=200)\n",
    "ax2.tick_params(axis='y', labelcolor=color)\n",
    "ax2.legend(loc='upper right')\n",
    "\n",
    "plt.title('Casualty rate of injured and killed pedestrians by vehicle type, NYC 2015-2021', size=16)\n",
    "plt.grid()\n",
    "plt.show()"
   ]
  },
  {
   "cell_type": "code",
   "execution_count": null,
   "metadata": {},
   "outputs": [],
   "source": []
  }
 ],
 "metadata": {
  "kernelspec": {
   "display_name": "Python 3 (ipykernel)",
   "language": "python",
   "name": "python3"
  },
  "language_info": {
   "codemirror_mode": {
    "name": "ipython",
    "version": 3
   },
   "file_extension": ".py",
   "mimetype": "text/x-python",
   "name": "python",
   "nbconvert_exporter": "python",
   "pygments_lexer": "ipython3",
   "version": "3.10.0"
  },
  "vscode": {
   "interpreter": {
    "hash": "7d9bf7c77b16f3ef5812e2e1ab6b1704ef0be1b8b20648085e56034f1c7b2458"
   }
  }
 },
 "nbformat": 4,
 "nbformat_minor": 4
}
