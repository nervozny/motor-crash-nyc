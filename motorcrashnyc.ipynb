{
 "cells": [
  {
   "cell_type": "code",
   "execution_count": 1,
   "metadata": {
    "_cell_guid": "b1076dfc-b9ad-4769-8c92-a6c4dae69d19",
    "_uuid": "8f2839f25d086af736a60e9eeb907d3b93b6e0e5",
    "execution": {
     "iopub.execute_input": "2022-06-14T12:21:28.948100Z",
     "iopub.status.busy": "2022-06-14T12:21:28.947268Z",
     "iopub.status.idle": "2022-06-14T12:21:28.953805Z",
     "shell.execute_reply": "2022-06-14T12:21:28.953152Z",
     "shell.execute_reply.started": "2022-06-14T12:21:28.948044Z"
    }
   },
   "outputs": [],
   "source": [
    "import numpy as np \n",
    "import pandas as pd \n",
    "import datetime\n",
    "import matplotlib.pyplot as plt\n",
    "import seaborn as sns\n",
    "sns.set_style('whitegrid')"
   ]
  },
  {
   "cell_type": "code",
   "execution_count": 3,
   "metadata": {
    "execution": {
     "iopub.execute_input": "2022-06-14T12:22:05.355653Z",
     "iopub.status.busy": "2022-06-14T12:22:05.355352Z",
     "iopub.status.idle": "2022-06-14T12:22:16.024971Z",
     "shell.execute_reply": "2022-06-14T12:22:16.024237Z",
     "shell.execute_reply.started": "2022-06-14T12:22:05.355605Z"
    }
   },
   "outputs": [],
   "source": [
    "# df = pd.read_csv('Motor_Vehicle_Collisions_-_Crashes.csv', low_memory=False)\n",
    "df = pd.read_parquet('Motor_Vehicle_Collisions_-_Crashes.pq')"
   ]
  },
  {
   "cell_type": "code",
   "execution_count": 4,
   "metadata": {
    "execution": {
     "iopub.execute_input": "2022-06-14T12:22:19.775428Z",
     "iopub.status.busy": "2022-06-14T12:22:19.774555Z",
     "iopub.status.idle": "2022-06-14T12:22:19.781136Z",
     "shell.execute_reply": "2022-06-14T12:22:19.780285Z",
     "shell.execute_reply.started": "2022-06-14T12:22:19.775372Z"
    }
   },
   "outputs": [],
   "source": [
    "my_auto = ['Sedan', 'PASSENGER VEHICLE', 'SPORT UTILITY / STATION WAGON', 'Station Wagon/Sport Utility Vehicle', '4 dr sedan', 'Pick-up Truck', 'VAN', 'PICK-UP TRUCK', 'LIVERY VEHICLE', 'Van', '2 dr sedan', 'Box Truck', 'Convertible', 'Flat Bed']\n",
    "my_motorcycle = ['Motorcycle', 'MOTORCYCLE']\n",
    "my_taxi = ['Taxi', 'TAXI']\n",
    "my_bus = ['Bus','BUS']\n",
    "my_bike = ['Bike', 'E-Bike']\n",
    "my_ambulance = ['AMBULANCE', 'Ambulance']\n",
    "my_moped = ['Moped']\n",
    "my_commercial = ['LARGE COM VEH(6 OR MORE TIRES)', 'SMALL COM VEH(4 TIRES)', 'Tractor Truck Diesel']"
   ]
  },
  {
   "cell_type": "code",
   "execution_count": 5,
   "metadata": {
    "execution": {
     "iopub.execute_input": "2022-06-14T12:22:42.491589Z",
     "iopub.status.busy": "2022-06-14T12:22:42.491324Z",
     "iopub.status.idle": "2022-06-14T12:22:42.575363Z",
     "shell.execute_reply": "2022-06-14T12:22:42.574808Z",
     "shell.execute_reply.started": "2022-06-14T12:22:42.491561Z"
    },
    "scrolled": false
   },
   "outputs": [
    {
     "data": {
      "text/plain": [
       "Sedan                                  426323\n",
       "Station Wagon/Sport Utility Vehicle    325932\n",
       "Taxi                                    37693\n",
       "Pick-up Truck                           25022\n",
       "Box Truck                               17530\n",
       "Bus                                     14629\n",
       "Bike                                    10303\n",
       "Tractor Truck Diesel                     7215\n",
       "Van                                      5846\n",
       "Motorcycle                               5595\n",
       "Ambulance                                3011\n",
       "Convertible                              2642\n",
       "Dump                                     2634\n",
       "E-Bike                                   1839\n",
       "Flat Bed                                 1741\n",
       "PK                                       1611\n",
       "Garbage or Refuse                        1564\n",
       "E-Scooter                                1290\n",
       "Carry All                                1268\n",
       "Tractor Truck Gasoline                   1042\n",
       "Tow Truck / Wrecker                       881\n",
       "Moped                                     841\n",
       "Chassis Cab                               614\n",
       "Tanker                                    591\n",
       "4 dr sedan                                509\n",
       "Motorscooter                              481\n",
       "Motorbike                                 359\n",
       "Concrete Mixer                            351\n",
       "Refrigerated Van                          321\n",
       "AMBULANCE                                 284\n",
       "Name: VEHICLE TYPE CODE 1, dtype: int64"
      ]
     },
     "execution_count": 5,
     "metadata": {},
     "output_type": "execute_result"
    }
   ],
   "source": [
    "df['VEHICLE TYPE CODE 1'].value_counts().head(30)"
   ]
  },
  {
   "cell_type": "code",
   "execution_count": 6,
   "metadata": {
    "execution": {
     "iopub.execute_input": "2022-06-14T12:23:09.077997Z",
     "iopub.status.busy": "2022-06-14T12:23:09.077422Z",
     "iopub.status.idle": "2022-06-14T12:23:09.806967Z",
     "shell.execute_reply": "2022-06-14T12:23:09.806122Z",
     "shell.execute_reply.started": "2022-06-14T12:23:09.077953Z"
    }
   },
   "outputs": [],
   "source": [
    "# uniform vehicle type\n",
    "\n",
    "df['vehicle'] = pd.Series([], dtype='object')\n",
    "df.loc[df['VEHICLE TYPE CODE 1'].isin(my_auto), 'vehicle'] = 'automobile'\n",
    "df.loc[df['VEHICLE TYPE CODE 1'].isin(my_motorcycle), 'vehicle'] = 'motorcycle'\n",
    "df.loc[df['VEHICLE TYPE CODE 1'].isin(my_taxi), 'vehicle'] = 'taxi'\n",
    "df.loc[df['VEHICLE TYPE CODE 1'].isin(my_bus), 'vehicle'] = 'bus'\n",
    "df.loc[df['VEHICLE TYPE CODE 1'].isin(my_bike), 'vehicle'] = 'bike'\n",
    "df.loc[df['VEHICLE TYPE CODE 1'].isin(my_ambulance), 'vehicle'] = 'ambulance'\n",
    "df.loc[df['VEHICLE TYPE CODE 1'].isin(my_moped), 'vehicle'] = 'moped'\n",
    "df.loc[df['VEHICLE TYPE CODE 1'].isin(my_commercial), 'vehicle'] = 'commercial'"
   ]
  },
  {
   "cell_type": "code",
   "execution_count": 7,
   "metadata": {
    "execution": {
     "iopub.execute_input": "2022-06-14T12:23:11.292162Z",
     "iopub.status.busy": "2022-06-14T12:23:11.291863Z",
     "iopub.status.idle": "2022-06-14T12:23:11.298317Z",
     "shell.execute_reply": "2022-06-14T12:23:11.297376Z",
     "shell.execute_reply.started": "2022-06-14T12:23:11.292127Z"
    }
   },
   "outputs": [],
   "source": [
    "# get rid of large titles\n",
    "df.rename(columns = {'NUMBER OF PERSONS INJURED':'injured', 'NUMBER OF PERSONS KILLED': 'killed', \\\n",
    "                     'NUMBER OF PEDESTRIANS INJURED': 'ped_inj', 'NUMBER OF PEDESTRIANS KILLED': 'ped_kill', 'NUMBER OF CYCLIST INJURED': 'cyc_inj', \\\n",
    "                     'NUMBER OF CYCLIST KILLED': 'cyc_kill', 'NUMBER OF MOTORIST INJURED': 'mot_inj', 'NUMBER OF MOTORIST KILLED': 'mot_kill'}, inplace=True)\n",
    "\n",
    "my_cols = ['vehicle', 'injured', 'killed', 'ped_inj', 'ped_kill', 'cyc_inj', 'cyc_kill', 'mot_inj', 'mot_kill']"
   ]
  },
  {
   "cell_type": "code",
   "execution_count": 8,
   "metadata": {
    "execution": {
     "iopub.execute_input": "2022-06-14T12:23:14.130385Z",
     "iopub.status.busy": "2022-06-14T12:23:14.129691Z",
     "iopub.status.idle": "2022-06-14T12:23:15.353376Z",
     "shell.execute_reply": "2022-06-14T12:23:15.352613Z",
     "shell.execute_reply.started": "2022-06-14T12:23:14.130345Z"
    }
   },
   "outputs": [
    {
     "data": {
      "text/html": [
       "<div>\n",
       "<style scoped>\n",
       "    .dataframe tbody tr th:only-of-type {\n",
       "        vertical-align: middle;\n",
       "    }\n",
       "\n",
       "    .dataframe tbody tr th {\n",
       "        vertical-align: top;\n",
       "    }\n",
       "\n",
       "    .dataframe thead th {\n",
       "        text-align: right;\n",
       "    }\n",
       "</style>\n",
       "<table border=\"1\" class=\"dataframe\">\n",
       "  <thead>\n",
       "    <tr style=\"text-align: right;\">\n",
       "      <th></th>\n",
       "      <th>vehicle</th>\n",
       "      <th>injured</th>\n",
       "      <th>killed</th>\n",
       "      <th>ped_inj</th>\n",
       "      <th>ped_kill</th>\n",
       "      <th>cyc_inj</th>\n",
       "      <th>cyc_kill</th>\n",
       "      <th>mot_inj</th>\n",
       "      <th>mot_kill</th>\n",
       "    </tr>\n",
       "  </thead>\n",
       "  <tbody>\n",
       "    <tr>\n",
       "      <th>373263</th>\n",
       "      <td>automobile</td>\n",
       "      <td>0.0</td>\n",
       "      <td>0.0</td>\n",
       "      <td>0.0</td>\n",
       "      <td>0.0</td>\n",
       "      <td>0.0</td>\n",
       "      <td>0.0</td>\n",
       "      <td>0.0</td>\n",
       "      <td>0.0</td>\n",
       "    </tr>\n",
       "    <tr>\n",
       "      <th>469568</th>\n",
       "      <td>automobile</td>\n",
       "      <td>0.0</td>\n",
       "      <td>0.0</td>\n",
       "      <td>0.0</td>\n",
       "      <td>0.0</td>\n",
       "      <td>0.0</td>\n",
       "      <td>0.0</td>\n",
       "      <td>0.0</td>\n",
       "      <td>0.0</td>\n",
       "    </tr>\n",
       "    <tr>\n",
       "      <th>663654</th>\n",
       "      <td>bike</td>\n",
       "      <td>1.0</td>\n",
       "      <td>0.0</td>\n",
       "      <td>0.0</td>\n",
       "      <td>0.0</td>\n",
       "      <td>1.0</td>\n",
       "      <td>0.0</td>\n",
       "      <td>0.0</td>\n",
       "      <td>0.0</td>\n",
       "    </tr>\n",
       "    <tr>\n",
       "      <th>208515</th>\n",
       "      <td>automobile</td>\n",
       "      <td>0.0</td>\n",
       "      <td>0.0</td>\n",
       "      <td>0.0</td>\n",
       "      <td>0.0</td>\n",
       "      <td>0.0</td>\n",
       "      <td>0.0</td>\n",
       "      <td>0.0</td>\n",
       "      <td>0.0</td>\n",
       "    </tr>\n",
       "    <tr>\n",
       "      <th>637094</th>\n",
       "      <td>bike</td>\n",
       "      <td>1.0</td>\n",
       "      <td>0.0</td>\n",
       "      <td>0.0</td>\n",
       "      <td>0.0</td>\n",
       "      <td>1.0</td>\n",
       "      <td>0.0</td>\n",
       "      <td>0.0</td>\n",
       "      <td>0.0</td>\n",
       "    </tr>\n",
       "    <tr>\n",
       "      <th>575066</th>\n",
       "      <td>automobile</td>\n",
       "      <td>0.0</td>\n",
       "      <td>0.0</td>\n",
       "      <td>0.0</td>\n",
       "      <td>0.0</td>\n",
       "      <td>0.0</td>\n",
       "      <td>0.0</td>\n",
       "      <td>0.0</td>\n",
       "      <td>0.0</td>\n",
       "    </tr>\n",
       "    <tr>\n",
       "      <th>662613</th>\n",
       "      <td>taxi</td>\n",
       "      <td>0.0</td>\n",
       "      <td>0.0</td>\n",
       "      <td>0.0</td>\n",
       "      <td>0.0</td>\n",
       "      <td>0.0</td>\n",
       "      <td>0.0</td>\n",
       "      <td>0.0</td>\n",
       "      <td>0.0</td>\n",
       "    </tr>\n",
       "    <tr>\n",
       "      <th>301413</th>\n",
       "      <td>automobile</td>\n",
       "      <td>0.0</td>\n",
       "      <td>0.0</td>\n",
       "      <td>0.0</td>\n",
       "      <td>0.0</td>\n",
       "      <td>0.0</td>\n",
       "      <td>0.0</td>\n",
       "      <td>0.0</td>\n",
       "      <td>0.0</td>\n",
       "    </tr>\n",
       "    <tr>\n",
       "      <th>574792</th>\n",
       "      <td>automobile</td>\n",
       "      <td>1.0</td>\n",
       "      <td>0.0</td>\n",
       "      <td>0.0</td>\n",
       "      <td>0.0</td>\n",
       "      <td>0.0</td>\n",
       "      <td>0.0</td>\n",
       "      <td>1.0</td>\n",
       "      <td>0.0</td>\n",
       "    </tr>\n",
       "    <tr>\n",
       "      <th>376571</th>\n",
       "      <td>automobile</td>\n",
       "      <td>0.0</td>\n",
       "      <td>0.0</td>\n",
       "      <td>0.0</td>\n",
       "      <td>0.0</td>\n",
       "      <td>0.0</td>\n",
       "      <td>0.0</td>\n",
       "      <td>0.0</td>\n",
       "      <td>0.0</td>\n",
       "    </tr>\n",
       "  </tbody>\n",
       "</table>\n",
       "</div>"
      ],
      "text/plain": [
       "           vehicle  injured  killed  ped_inj  ped_kill  cyc_inj  cyc_kill  \\\n",
       "373263  automobile      0.0     0.0      0.0       0.0      0.0       0.0   \n",
       "469568  automobile      0.0     0.0      0.0       0.0      0.0       0.0   \n",
       "663654        bike      1.0     0.0      0.0       0.0      1.0       0.0   \n",
       "208515  automobile      0.0     0.0      0.0       0.0      0.0       0.0   \n",
       "637094        bike      1.0     0.0      0.0       0.0      1.0       0.0   \n",
       "575066  automobile      0.0     0.0      0.0       0.0      0.0       0.0   \n",
       "662613        taxi      0.0     0.0      0.0       0.0      0.0       0.0   \n",
       "301413  automobile      0.0     0.0      0.0       0.0      0.0       0.0   \n",
       "574792  automobile      1.0     0.0      0.0       0.0      0.0       0.0   \n",
       "376571  automobile      0.0     0.0      0.0       0.0      0.0       0.0   \n",
       "\n",
       "        mot_inj  mot_kill  \n",
       "373263      0.0       0.0  \n",
       "469568      0.0       0.0  \n",
       "663654      0.0       0.0  \n",
       "208515      0.0       0.0  \n",
       "637094      0.0       0.0  \n",
       "575066      0.0       0.0  \n",
       "662613      0.0       0.0  \n",
       "301413      0.0       0.0  \n",
       "574792      1.0       0.0  \n",
       "376571      0.0       0.0  "
      ]
     },
     "execution_count": 8,
     "metadata": {},
     "output_type": "execute_result"
    }
   ],
   "source": [
    "df[['vehicle', 'injured', 'killed', 'ped_inj', 'ped_kill', 'cyc_inj', 'cyc_kill', 'mot_inj', 'mot_kill']].sample(10)"
   ]
  },
  {
   "cell_type": "code",
   "execution_count": 9,
   "metadata": {
    "execution": {
     "iopub.execute_input": "2022-06-14T12:25:46.282921Z",
     "iopub.status.busy": "2022-06-14T12:25:46.282610Z",
     "iopub.status.idle": "2022-06-14T12:25:46.403625Z",
     "shell.execute_reply": "2022-06-14T12:25:46.402858Z",
     "shell.execute_reply.started": "2022-06-14T12:25:46.282885Z"
    }
   },
   "outputs": [
    {
     "data": {
      "text/plain": [
       "vehicle\n",
       "moped           0.0\n",
       "ambulance       3.0\n",
       "motorcycle      3.0\n",
       "bike            8.0\n",
       "commercial     15.0\n",
       "taxi           19.0\n",
       "bus            34.0\n",
       "automobile    489.0\n",
       "Name: ped_kill, dtype: float64"
      ]
     },
     "execution_count": 9,
     "metadata": {},
     "output_type": "execute_result"
    }
   ],
   "source": [
    "df.groupby('vehicle').ped_kill.sum().sort_values(ascending=True)"
   ]
  },
  {
   "cell_type": "code",
   "execution_count": 10,
   "metadata": {
    "execution": {
     "iopub.execute_input": "2022-06-14T12:39:32.028185Z",
     "iopub.status.busy": "2022-06-14T12:39:32.027879Z",
     "iopub.status.idle": "2022-06-14T12:39:32.494888Z",
     "shell.execute_reply": "2022-06-14T12:39:32.494002Z",
     "shell.execute_reply.started": "2022-06-14T12:39:32.028154Z"
    }
   },
   "outputs": [
    {
     "data": {
      "image/png": "[encoded data removed]",
      "text/plain": [
       "<Figure size 360x360 with 1 Axes>"
      ]
     },
     "metadata": {
      "needs_background": "light"
     },
     "output_type": "display_data"
    }
   ],
   "source": [
    "# Who kills pedestrians ?\n",
    "df_who_kills = df.groupby('vehicle', as_index=False).ped_kill.sum().sort_values(by='ped_kill', ascending=False).copy(deep=True)\n",
    "\n",
    "g=sns.catplot(y='vehicle', x='ped_kill', data=df_who_kills, kind='bar',orient='h')\n",
    "g.set(xlabel='Number of people killed', ylabel='vehicle type')\n",
    "\n",
    "plt.show()"
   ]
  },
  {
   "cell_type": "code",
   "execution_count": 11,
   "metadata": {
    "execution": {
     "iopub.execute_input": "2022-06-14T11:32:03.738724Z",
     "iopub.status.busy": "2022-06-14T11:32:03.738505Z",
     "iopub.status.idle": "2022-06-14T11:32:03.743358Z",
     "shell.execute_reply": "2022-06-14T11:32:03.742397Z",
     "shell.execute_reply.started": "2022-06-14T11:32:03.738698Z"
    }
   },
   "outputs": [],
   "source": [
    "# NYS Vehicle Registrations of File - End of year 2018  https://dmv.ny.gov/statistic/2018reginforce-web.pdf\n",
    "\n",
    "# automobile_qty = 1912468\n",
    "# motorcycle_qty = 44784\n",
    "# commercial_qty = 75069\n",
    "# moped_qty = 2283\n",
    "# bus_qty = 8573\n",
    "# taxi_qty = 111562\n",
    "# ambulance_qty = 1935\n",
    "\n",
    "stat_dict = {\n",
    "'automobile': 1912468,\n",
    "'taxi': 111562,\n",
    "'bike': 773000, # https://www1.nyc.gov/html/dot/html/bicyclists/cyclinginthecity.shtml\n",
    "'bus': 8573,\n",
    "'motorcycle': 44784,\n",
    "'commercial': 75069,\n",
    "'ambulance': 1935,\n",
    "'moped': 2283\n",
    "}"
   ]
  },
  {
   "cell_type": "markdown",
   "metadata": {},
   "source": [
    "# Who gets killed more often?"
   ]
  },
  {
   "cell_type": "code",
   "execution_count": 12,
   "metadata": {
    "execution": {
     "iopub.execute_input": "2022-06-14T13:28:41.656076Z",
     "iopub.status.busy": "2022-06-14T13:28:41.655654Z",
     "iopub.status.idle": "2022-06-14T13:28:41.855937Z",
     "shell.execute_reply": "2022-06-14T13:28:41.855118Z",
     "shell.execute_reply.started": "2022-06-14T13:28:41.656045Z"
    }
   },
   "outputs": [
    {
     "data": {
      "image/png": "[encoded data removed]",
      "text/plain": [
       "<Figure size 640x480 with 1 Axes>"
      ]
     },
     "metadata": {},
     "output_type": "display_data"
    }
   ],
   "source": [
    "a = [df.ped_kill.sum(), df.mot_kill.sum(), df.cyc_kill.sum()]\n",
    "labels = ['pedestrians', 'motorists', 'cyclists']\n",
    "\n",
    "sns.barplot(x=a, y=labels)\n",
    "plt.xlabel('number of people killed')\n",
    "\n",
    "plt.show()"
   ]
  },
  {
   "cell_type": "markdown",
   "metadata": {},
   "source": [
    "# Driving which vehicle is more likely to injure a pedestrian"
   ]
  },
  {
   "cell_type": "code",
   "execution_count": 13,
   "metadata": {
    "execution": {
     "iopub.execute_input": "2022-06-14T11:32:03.905463Z",
     "iopub.status.busy": "2022-06-14T11:32:03.905143Z",
     "iopub.status.idle": "2022-06-14T11:32:03.955449Z",
     "shell.execute_reply": "2022-06-14T11:32:03.954737Z",
     "shell.execute_reply.started": "2022-06-14T11:32:03.905424Z"
    }
   },
   "outputs": [
    {
     "data": {
      "text/html": [
       "<div>\n",
       "<style scoped>\n",
       "    .dataframe tbody tr th:only-of-type {\n",
       "        vertical-align: middle;\n",
       "    }\n",
       "\n",
       "    .dataframe tbody tr th {\n",
       "        vertical-align: top;\n",
       "    }\n",
       "\n",
       "    .dataframe thead th {\n",
       "        text-align: right;\n",
       "    }\n",
       "</style>\n",
       "<table border=\"1\" class=\"dataframe\">\n",
       "  <thead>\n",
       "    <tr style=\"text-align: right;\">\n",
       "      <th></th>\n",
       "      <th>vehicle</th>\n",
       "      <th>injured</th>\n",
       "      <th>killed</th>\n",
       "      <th>ped_inj</th>\n",
       "      <th>ped_kill</th>\n",
       "      <th>cyc_inj</th>\n",
       "      <th>cyc_kill</th>\n",
       "      <th>mot_inj</th>\n",
       "      <th>mot_kill</th>\n",
       "    </tr>\n",
       "  </thead>\n",
       "  <tbody>\n",
       "    <tr>\n",
       "      <th>914164</th>\n",
       "      <td>NaN</td>\n",
       "      <td>5.0</td>\n",
       "      <td>0.0</td>\n",
       "      <td>0.0</td>\n",
       "      <td>0.0</td>\n",
       "      <td>0.0</td>\n",
       "      <td>0.0</td>\n",
       "      <td>5.0</td>\n",
       "      <td>0.0</td>\n",
       "    </tr>\n",
       "    <tr>\n",
       "      <th>914165</th>\n",
       "      <td>NaN</td>\n",
       "      <td>NaN</td>\n",
       "      <td>NaN</td>\n",
       "      <td>NaN</td>\n",
       "      <td>NaN</td>\n",
       "      <td>NaN</td>\n",
       "      <td>NaN</td>\n",
       "      <td>NaN</td>\n",
       "      <td>NaN</td>\n",
       "    </tr>\n",
       "    <tr>\n",
       "      <th>914166</th>\n",
       "      <td>NaN</td>\n",
       "      <td>NaN</td>\n",
       "      <td>NaN</td>\n",
       "      <td>NaN</td>\n",
       "      <td>NaN</td>\n",
       "      <td>NaN</td>\n",
       "      <td>NaN</td>\n",
       "      <td>NaN</td>\n",
       "      <td>NaN</td>\n",
       "    </tr>\n",
       "    <tr>\n",
       "      <th>914167</th>\n",
       "      <td>NaN</td>\n",
       "      <td>NaN</td>\n",
       "      <td>NaN</td>\n",
       "      <td>NaN</td>\n",
       "      <td>NaN</td>\n",
       "      <td>NaN</td>\n",
       "      <td>NaN</td>\n",
       "      <td>NaN</td>\n",
       "      <td>NaN</td>\n",
       "    </tr>\n",
       "    <tr>\n",
       "      <th>914168</th>\n",
       "      <td>NaN</td>\n",
       "      <td>NaN</td>\n",
       "      <td>NaN</td>\n",
       "      <td>NaN</td>\n",
       "      <td>NaN</td>\n",
       "      <td>NaN</td>\n",
       "      <td>NaN</td>\n",
       "      <td>NaN</td>\n",
       "      <td>NaN</td>\n",
       "    </tr>\n",
       "  </tbody>\n",
       "</table>\n",
       "</div>"
      ],
      "text/plain": [
       "       vehicle  injured  killed  ped_inj  ped_kill  cyc_inj  cyc_kill  \\\n",
       "914164     NaN      5.0     0.0      0.0       0.0      0.0       0.0   \n",
       "914165     NaN      NaN     NaN      NaN       NaN      NaN       NaN   \n",
       "914166     NaN      NaN     NaN      NaN       NaN      NaN       NaN   \n",
       "914167     NaN      NaN     NaN      NaN       NaN      NaN       NaN   \n",
       "914168     NaN      NaN     NaN      NaN       NaN      NaN       NaN   \n",
       "\n",
       "        mot_inj  mot_kill  \n",
       "914164      5.0       0.0  \n",
       "914165      NaN       NaN  \n",
       "914166      NaN       NaN  \n",
       "914167      NaN       NaN  \n",
       "914168      NaN       NaN  "
      ]
     },
     "execution_count": 13,
     "metadata": {},
     "output_type": "execute_result"
    }
   ],
   "source": [
    "df[my_cols].tail()"
   ]
  },
  {
   "cell_type": "code",
   "execution_count": 14,
   "metadata": {
    "execution": {
     "iopub.execute_input": "2022-06-14T13:33:19.150046Z",
     "iopub.status.busy": "2022-06-14T13:33:19.149725Z",
     "iopub.status.idle": "2022-06-14T13:33:19.596873Z",
     "shell.execute_reply": "2022-06-14T13:33:19.596017Z",
     "shell.execute_reply.started": "2022-06-14T13:33:19.150007Z"
    }
   },
   "outputs": [
    {
     "data": {
      "image/png": "[encoded data removed]",
      "text/plain": [
       "<Figure size 900x300 with 1 Axes>"
      ]
     },
     "metadata": {},
     "output_type": "display_data"
    }
   ],
   "source": [
    "# Who kills pedestrians ?\n",
    "df_who_kills = df.groupby('vehicle', as_index=False).ped_kill.sum().sort_values(by='ped_kill', ascending=False).copy(deep=True)\n",
    "\n",
    "g=sns.catplot(y='vehicle', x='ped_kill', data=df_who_kills, kind='bar',orient='h', height=3, aspect=3)\n",
    "g.set(xlabel='Number of people killed', ylabel='vehicle type')\n",
    "plt.title('Number of people killed by vehicle type')\n",
    "plt.show()"
   ]
  },
  {
   "cell_type": "code",
   "execution_count": 15,
   "metadata": {
    "execution": {
     "iopub.execute_input": "2022-06-14T13:45:26.835452Z",
     "iopub.status.busy": "2022-06-14T13:45:26.835152Z",
     "iopub.status.idle": "2022-06-14T13:45:26.966858Z",
     "shell.execute_reply": "2022-06-14T13:45:26.966144Z",
     "shell.execute_reply.started": "2022-06-14T13:45:26.835422Z"
    }
   },
   "outputs": [],
   "source": [
    "# Casualty RATE by vehicle type - PEDESTRIANS\n",
    "\n",
    "df_rate = df.groupby('vehicle')[['ped_inj', 'ped_kill']].sum()\n",
    "df_rate['registred'] = df_rate.index.map(stat_dict)\n",
    "df_rate['rate_inj_per_1K'] = df_rate.ped_inj / df_rate.registred * 1000\n",
    "df_rate['rate_kill_per_10K'] = df_rate.ped_kill / df_rate.registred * 10000\n",
    "#df_rate.sort_values(by='rate', ascending=False, inplace=True)"
   ]
  },
  {
   "cell_type": "code",
   "execution_count": 16,
   "metadata": {
    "execution": {
     "iopub.execute_input": "2022-06-14T13:45:31.694402Z",
     "iopub.status.busy": "2022-06-14T13:45:31.694126Z",
     "iopub.status.idle": "2022-06-14T13:45:31.706355Z",
     "shell.execute_reply": "2022-06-14T13:45:31.705467Z",
     "shell.execute_reply.started": "2022-06-14T13:45:31.694364Z"
    }
   },
   "outputs": [
    {
     "data": {
      "text/html": [
       "<div>\n",
       "<style scoped>\n",
       "    .dataframe tbody tr th:only-of-type {\n",
       "        vertical-align: middle;\n",
       "    }\n",
       "\n",
       "    .dataframe tbody tr th {\n",
       "        vertical-align: top;\n",
       "    }\n",
       "\n",
       "    .dataframe thead th {\n",
       "        text-align: right;\n",
       "    }\n",
       "</style>\n",
       "<table border=\"1\" class=\"dataframe\">\n",
       "  <thead>\n",
       "    <tr style=\"text-align: right;\">\n",
       "      <th></th>\n",
       "      <th>ped_inj</th>\n",
       "      <th>ped_kill</th>\n",
       "      <th>registred</th>\n",
       "      <th>rate_inj_per_1K</th>\n",
       "      <th>rate_kill_per_10K</th>\n",
       "    </tr>\n",
       "    <tr>\n",
       "      <th>vehicle</th>\n",
       "      <th></th>\n",
       "      <th></th>\n",
       "      <th></th>\n",
       "      <th></th>\n",
       "      <th></th>\n",
       "    </tr>\n",
       "  </thead>\n",
       "  <tbody>\n",
       "    <tr>\n",
       "      <th>ambulance</th>\n",
       "      <td>52.0</td>\n",
       "      <td>3.0</td>\n",
       "      <td>1935</td>\n",
       "      <td>26.873385</td>\n",
       "      <td>15.503876</td>\n",
       "    </tr>\n",
       "    <tr>\n",
       "      <th>automobile</th>\n",
       "      <td>38067.0</td>\n",
       "      <td>489.0</td>\n",
       "      <td>1912468</td>\n",
       "      <td>19.904647</td>\n",
       "      <td>2.556906</td>\n",
       "    </tr>\n",
       "    <tr>\n",
       "      <th>bike</th>\n",
       "      <td>1643.0</td>\n",
       "      <td>8.0</td>\n",
       "      <td>773000</td>\n",
       "      <td>2.125485</td>\n",
       "      <td>0.103493</td>\n",
       "    </tr>\n",
       "    <tr>\n",
       "      <th>bus</th>\n",
       "      <td>719.0</td>\n",
       "      <td>34.0</td>\n",
       "      <td>8573</td>\n",
       "      <td>83.867958</td>\n",
       "      <td>39.659396</td>\n",
       "    </tr>\n",
       "    <tr>\n",
       "      <th>commercial</th>\n",
       "      <td>57.0</td>\n",
       "      <td>15.0</td>\n",
       "      <td>75069</td>\n",
       "      <td>0.759301</td>\n",
       "      <td>1.998162</td>\n",
       "    </tr>\n",
       "    <tr>\n",
       "      <th>moped</th>\n",
       "      <td>96.0</td>\n",
       "      <td>0.0</td>\n",
       "      <td>2283</td>\n",
       "      <td>42.049934</td>\n",
       "      <td>0.000000</td>\n",
       "    </tr>\n",
       "    <tr>\n",
       "      <th>motorcycle</th>\n",
       "      <td>283.0</td>\n",
       "      <td>3.0</td>\n",
       "      <td>44784</td>\n",
       "      <td>6.319221</td>\n",
       "      <td>0.669882</td>\n",
       "    </tr>\n",
       "    <tr>\n",
       "      <th>taxi</th>\n",
       "      <td>2488.0</td>\n",
       "      <td>19.0</td>\n",
       "      <td>111562</td>\n",
       "      <td>22.301501</td>\n",
       "      <td>1.703089</td>\n",
       "    </tr>\n",
       "  </tbody>\n",
       "</table>\n",
       "</div>"
      ],
      "text/plain": [
       "            ped_inj  ped_kill  registred  rate_inj_per_1K  rate_kill_per_10K\n",
       "vehicle                                                                     \n",
       "ambulance      52.0       3.0       1935        26.873385          15.503876\n",
       "automobile  38067.0     489.0    1912468        19.904647           2.556906\n",
       "bike         1643.0       8.0     773000         2.125485           0.103493\n",
       "bus           719.0      34.0       8573        83.867958          39.659396\n",
       "commercial     57.0      15.0      75069         0.759301           1.998162\n",
       "moped          96.0       0.0       2283        42.049934           0.000000\n",
       "motorcycle    283.0       3.0      44784         6.319221           0.669882\n",
       "taxi         2488.0      19.0     111562        22.301501           1.703089"
      ]
     },
     "execution_count": 16,
     "metadata": {},
     "output_type": "execute_result"
    }
   ],
   "source": [
    "df_rate"
   ]
  },
  {
   "cell_type": "code",
   "execution_count": 17,
   "metadata": {
    "execution": {
     "iopub.execute_input": "2022-06-14T13:45:41.971125Z",
     "iopub.status.busy": "2022-06-14T13:45:41.970810Z",
     "iopub.status.idle": "2022-06-14T13:45:42.324532Z",
     "shell.execute_reply": "2022-06-14T13:45:42.323921Z",
     "shell.execute_reply.started": "2022-06-14T13:45:41.971090Z"
    }
   },
   "outputs": [
    {
     "data": {
      "image/png": "[encoded data removed]",
      "text/plain": [
       "<Figure size 1000x700 with 2 Axes>"
      ]
     },
     "metadata": {},
     "output_type": "display_data"
    }
   ],
   "source": [
    "x1 = df_rate.index\n",
    "y1 = df_rate.rate_inj_per_1K\n",
    "\n",
    "x2 = df_rate.index\n",
    "y2 = df_rate.rate_kill_per_10K\n",
    "\n",
    "fig, ax1  = plt.subplots(figsize=(10,7))\n",
    "color = 'tab:blue'\n",
    "ax1.set_xlabel('vehicle', size=14)\n",
    "ax1.set_ylabel('Injuries per 1K reg.', color=color, size=14)\n",
    "ax1.scatter(x1, y1, marker='s', color=color, label='Injured', alpha=0.5, s=200)\n",
    "ax1.tick_params(axis='y', labelcolor=color)\n",
    "ax1.legend(loc='upper left')\n",
    "\n",
    "ax2 = ax1.twinx()\n",
    "color = 'tab:red'\n",
    "ax2.set_ylabel('Killed per 10K reg.', color=color, size=14)  # we already handled the x-label with ax1\n",
    "ax2.scatter(x2, y2, color=color, label='Killed', alpha=0.5, marker='o', s=200)\n",
    "ax2.tick_params(axis='y', labelcolor=color)\n",
    "ax2.legend(loc='upper right')\n",
    "\n",
    "plt.title('Casualty rate of injured and killed pedestrians by vehicle type, NYC 2020', size=16)\n",
    "plt.grid()\n",
    "plt.show()"
   ]
  }
 ],
 "metadata": {
  "kernelspec": {
   "display_name": "Python 3.10.0 ('py310')",
   "language": "python",
   "name": "python3"
  },
  "language_info": {
   "codemirror_mode": {
    "name": "ipython",
    "version": 3
   },
   "file_extension": ".py",
   "mimetype": "text/x-python",
   "name": "python",
   "nbconvert_exporter": "python",
   "pygments_lexer": "ipython3",
   "version": "3.10.0"
  },
  "vscode": {
   "interpreter": {
    "hash": "7d9bf7c77b16f3ef5812e2e1ab6b1704ef0be1b8b20648085e56034f1c7b2458"
   }
  }
 },
 "nbformat": 4,
 "nbformat_minor": 4
}
